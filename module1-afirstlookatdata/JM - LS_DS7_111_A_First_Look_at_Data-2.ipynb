{
 "cells": [
  {
   "cell_type": "markdown",
   "metadata": {
    "colab_type": "text",
    "id": "Okfr_uhwhS1X"
   },
   "source": [
    "# Lambda School Data Science - A First Look at Data\n",
    "\n"
   ]
  },
  {
   "cell_type": "markdown",
   "metadata": {
    "colab_type": "text",
    "id": "9dtJETFRhnOG"
   },
   "source": [
    "## Lecture - let's explore Python DS libraries and examples!\n",
    "\n",
    "The Python Data Science ecosystem is huge. You've seen some of the big pieces - pandas, scikit-learn, matplotlib. What parts do you want to see more of?"
   ]
  },
  {
   "cell_type": "code",
   "execution_count": 0,
   "metadata": {
    "colab": {},
    "colab_type": "code",
    "id": "WiBkgmPJhmhE"
   },
   "outputs": [],
   "source": [
    "# TODO - we'll be doing this live, taking requests\n",
    "# and reproducing what it is to look up and learn things\n",
    "\n",
    "# There are several topics that I have been reading about the prior week in preperation for week 1. \n",
    "# First is Neural Networks and Knowledge based graphs. \n",
    "# Upon my research there are a lot of Python DS libraries that support NN development. Libraries such as Numpy, Keras and Thenos keep showing up. \n",
    "# The only reason I picked Knowledge Graphs is because I saw a company that I want to apply to in the future use it. So far kegra, in which its built on top of \n",
    "# Keras, come up. And Pykg2vec, a Tensorflow-based library. \n",
    "#\n",
    "# I think its best to choose your libraries based on your interest versus whatever you think is 'hot' at the moment. Perhaps my choice of libraries will change as\n",
    "# I discover more companies and what libraries they are using. "
   ]
  },
  {
   "cell_type": "markdown",
   "metadata": {
    "colab_type": "text",
    "id": "lOqaPds9huME"
   },
   "source": [
    "## Assignment - now it's your turn\n",
    "\n",
    "Pick at least one Python DS library, and using documentation/examples reproduce in this notebook something cool. It's OK if you don't fully understand it or get it 100% working, but do put in effort and look things up."
   ]
  },
  {
   "cell_type": "code",
   "execution_count": 3,
   "metadata": {
    "colab": {},
    "colab_type": "code",
    "id": "TGUS79cOhPWj"
   },
   "outputs": [],
   "source": [
    "# TODO - your code here\n",
    "# Use what we did live in lecture as an example\n",
    "\n",
    "# I picked a topic that resonated with my current research outside of Lambda School, WAVES! \n",
    "\n",
    "# Libraries:\n",
    "import matplotlib.pyplot as plt\n",
    "import numpy as np\n",
    "import scipy\n",
    "\n",
    "# I've seen these during my pre-coure work"
   ]
  },
  {
   "cell_type": "code",
   "execution_count": 4,
   "metadata": {
    "colab": {},
    "colab_type": "code",
    "id": "8BUtVXB0lQ76"
   },
   "outputs": [],
   "source": [
    "# At first I tried to skip this function and just plot my graph without as there is a lot in here to unpack. \n",
    "# First, whats a helper function? A helper function is a function that performs part of the computation of another function. \n",
    "# Helper functions are used to make your programs easier to read by giving descriptive names to computations. \n",
    "# They also let you reuse computations, just as with functions in general.\n",
    "\n",
    "# In this case this is a graphing helper function. \n",
    "\n",
    "def setup_graph(title='', x_label='', y_label='', fig_size=None):\n",
    "    fig = plt.figure()\n",
    "    if fig_size != None:\n",
    "        fig.set_size_inches(fig_size[0], fig_size[1])\n",
    "    ax = fig.add_subplot(111) # subplot(111) means 1x1 grid, first subplot\n",
    "    ax.set_title(title)\n",
    "    ax.set_xlabel(x_label)\n",
    "    ax.set_ylabel(y_label)"
   ]
  },
  {
   "cell_type": "markdown",
   "metadata": {
    "colab_type": "text",
    "id": "XB0f1dhpjWD6"
   },
   "source": [
    "**How do we Presesent waves?**"
   ]
  },
  {
   "cell_type": "code",
   "execution_count": 7,
   "metadata": {
    "colab": {
     "base_uri": "https://localhost:8080/",
     "height": 312
    },
    "colab_type": "code",
    "id": "xvhHiRtLjcxK",
    "outputId": "10d72727-7506-476d-c569-2a86e446c440"
   },
   "outputs": [
    {
     "data": {
      "image/png": "[encoded data removed]",
      "text/plain": [
       "<Figure size 432x288 with 1 Axes>"
      ]
     },
     "metadata": {},
     "output_type": "display_data"
    }
   ],
   "source": [
    "# Change variable assigments to change the shape of the wave. \n",
    "\n",
    "freq = 1\n",
    "amplitude = 3\n",
    "time_to_plot = 2\n",
    "sample_rate = 100\n",
    "num_samples = sample_rate * time_to_plot\n",
    "\n",
    "t = np.linspace(0, time_to_plot, num_samples)\n",
    "signal = [amplitude * np.sin(freq * i * 2*np.pi) for i in t]\n",
    "\n",
    "setup_graph(x_label='time (in seconds)', y_label='amplitude', title='time domain')\n",
    "plt.plot(t, signal)\n",
    "plt.show();"
   ]
  },
  {
   "cell_type": "markdown",
   "metadata": {
    "colab_type": "text",
    "id": "BT9gdS7viJZa"
   },
   "source": [
    "### Assignment questions\n",
    "\n",
    "After you've worked on some code, answer the following questions in this text block:\n",
    "\n",
    "1.  Describe in a paragraph of text what you did and why, as if you were writing an email to somebody interested but nontechnical.\n",
    "\n",
    "In replying to your message about how waves are represented and as to how I made this graph. Lets have a look at the  code and graphs I have made for you above. First we require three python libraries in order for this graph to work: matplotlib, scipy and numpy. Then we defined a resuable function called a helper function, in which we named setup_graph. This function will take in three arguments, and outputs according to what is defined in it. In this case if there is no value at all, redefine the figure size to these parameters.  \n",
    "Next we define the variables that make up a wave, frequency, aplitude abd how much time you want to represent in your graph, in this case 2 seconds. Then we calculate t for time and signal in order for the graph to function. Our two steps are to call on the helper function, setup_graph which the arguments and plot the time and signal using our matplot that we called on in the beginning. \n",
    "\n",
    "2.  What was the most challenging part of what you did?\n",
    "\n",
    "Taking time to explain what I did. Its easy to conceptualize all the code abd information, its a lot harder to translate that into plain english. \n",
    "\n",
    "3.  What was the most interesting thing you learned?\n",
    "\n",
    "Picking topics that interest you to make your learning a lot smoother. Although I did learn a lot during the pre-course, forest fires are not a subject that I was not particulary interested in. I think having a passion for a subject matter makes the DS flow a lot easier, and opens the possibility for creative questions to come about. \n",
    "\n",
    "4.  What area would you like to explore with more time?\n",
    "\n",
    "Exporatory data analysis(EDA), has become an interesting subject matter for me. I have done this during the precourse work but did not know that was the official terminalogy. \n",
    "\n",
    "\n",
    "\n",
    "\n"
   ]
  },
  {
   "cell_type": "markdown",
   "metadata": {
    "colab_type": "text",
    "id": "_XXg2crAipwP"
   },
   "source": [
    "## Stretch goals and resources\n",
    "\n",
    "Following are *optional* things for you to take a look at. Focus on the above assignment first, and make sure to commit and push your changes to GitHub (and since this is the first assignment of the sprint, open a PR as well).\n",
    "\n",
    "- [pandas documentation](https://pandas.pydata.org/pandas-docs/stable/)\n",
    "- [scikit-learn documentation](http://scikit-learn.org/stable/documentation.html)\n",
    "- [matplotlib documentation](https://matplotlib.org/contents.html)\n",
    "- [Awesome Data Science](https://github.com/bulutyazilim/awesome-datascience) - a list of many types of DS resources\n",
    "\n",
    "Stretch goals:\n",
    "\n",
    "- Find and read blogs, walkthroughs, and other examples of people working through cool things with data science - and share with your classmates!\n",
    "- Write a blog post (Medium is a popular place to publish) introducing yourself as somebody learning data science, and talking about what you've learned already and what you're excited to learn more about."
   ]
  }
 ],
 "metadata": {
  "colab": {
   "collapsed_sections": [],
   "name": "LS_DS7_111_A_First_Look_at_Data.ipynb",
   "provenance": [],
   "version": "0.3.2"
  },
  "kernelspec": {
   "display_name": "Python 3",
   "language": "python",
   "name": "python3"
  },
  "language_info": {
   "codemirror_mode": {
    "name": "ipython",
    "version": 3
   },
   "file_extension": ".py",
   "mimetype": "text/x-python",
   "name": "python",
   "nbconvert_exporter": "python",
   "pygments_lexer": "ipython3",
   "version": "3.6.5"
  }
 },
 "nbformat": 4,
 "nbformat_minor": 1
}
